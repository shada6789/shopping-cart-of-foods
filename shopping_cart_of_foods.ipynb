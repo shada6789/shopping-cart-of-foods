{
  "nbformat": 4,
  "nbformat_minor": 0,
  "metadata": {
    "colab": {
      "provenance": []
    },
    "kernelspec": {
      "name": "python3",
      "display_name": "Python 3"
    },
    "language_info": {
      "name": "python"
    }
  },
  "cells": [
    {
      "cell_type": "code",
      "execution_count": 7,
      "metadata": {
        "colab": {
          "base_uri": "https://localhost:8080/"
        },
        "id": "ng-JXvzOHgc-",
        "outputId": "2022c355-6505-4037-e400-04ebbb1d0561"
      },
      "outputs": [
        {
          "output_type": "stream",
          "name": "stdout",
          "text": [
            "enter the food you want(q to quit):p\n",
            "enter the price of the p:SAR3\n",
            "enter the food you want(q to quit):v\n",
            "enter the price of the v:SAR4\n",
            "enter the food you want(q to quit):q\n",
            "*****YOUR CART*****\n",
            "p\n",
            "v\n",
            "\n",
            "the total is :SAR7.0\n"
          ]
        }
      ],
      "source": [
        "foods=[]\n",
        "prices=[]\n",
        "total=0\n",
        "while True:\n",
        "  food=input(\"enter the food you want(q to quit):\")\n",
        "  if food.lower() ==\"q\":#IF YOU CHOOSE Q OR q THE PROGRAM WILL QUIT\n",
        "    break\n",
        "  else:\n",
        "      price=float(input(f\"enter the price of the {food}:SAR\"))\n",
        "      foods.append(food)\n",
        "      prices.append(price)\n",
        "print(\"*****YOUR CART*****\")\n",
        "for food in foods:\n",
        "  print(food)\n",
        "for price in prices:\n",
        "  total+=price\n",
        "print()\n",
        "print(f\"the total is :SAR{total}\")\n",
        ""
      ]
    }
  ]
}